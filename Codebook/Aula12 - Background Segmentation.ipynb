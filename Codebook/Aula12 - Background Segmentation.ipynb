{
 "cells": [
  {
   "cell_type": "markdown",
   "metadata": {},
   "source": [
    "# Aula 12 - Background Segmentation\n",
    "\n",
    "Referências: \n",
    "    1. Szeilisk - Cap 4\n",
    "    1. Artigo Kim et a. - Real-time foreground–background segmentation using codebook model\n"
   ]
  },
  {
   "cell_type": "code",
   "execution_count": 1,
   "metadata": {},
   "outputs": [
    {
     "name": "stdout",
     "output_type": "stream",
     "text": [
      "3.4.2\n"
     ]
    }
   ],
   "source": [
    "%reset -f\n",
    "%matplotlib inline\n",
    "# from tqdm import tqdm\n",
    "\n",
    "\n",
    "#!pip install opencv-python\n",
    "\n",
    "import cv2 as cv\n",
    "import numpy as np\n",
    "import matplotlib.pyplot as plt\n",
    "\n",
    "print(cv.__version__)"
   ]
  },
  {
   "cell_type": "markdown",
   "metadata": {},
   "source": [
    "___\n",
    "## Projeto 2-2: Contagem de Pessoas\n",
    "\n",
    "**Motivação**: http://www.cvg.reading.ac.uk/PETS2009/a.html#s1\n",
    "\n",
    "Objetivo: Vocês devem tentar realizar a contagem de pessoas no dataset S1.L1 utilizando o modelo de codebook. As imagens foram distribuídas via pendrive.\n",
    "\n",
    "Requisitos:\n",
    "  * Tem que usar o modelo de codebook do artigo.\n",
    "  * A partir da separação do foreground, vocês podem utilizar qualquer método para realizar a contagem, incluindo Clustering ou Machine Learning.\n",
    "  * O Repositório no Git deve conter além do código fonte, os dados do codebook treinado salvo com Pickle e um relatório do projeto.\n",
    "  * O relatório deve conter a metodologia utilizada (incluindo treinamento) e comentário sobre os resultados obtidos.\n",
    "\n",
    "### Entrega: 03/Out 23:59 via GitHub.\n",
    "\n",
    "### Rubrica do Projeto:\n",
    "\n",
    "    I. Não entregou ou entregou apenas um rascunho.\n",
    "    D. Implementou parcialmente o artigo ou não realizou a contagem.\n",
    "    C. Implementou a sessão 2 do artigo e realizou uma contagem de forma simples.\n",
    "    B. Cumpriu a rubrica C com a implementação completa do codebook.\n",
    "    A. Além de cumprir a rubrica B, realiza a contagem com uma técnica elaborada.\n",
    "    \n",
    "    -1 Conceito se o relatório estiver ausente ou insatisfatório."
   ]
  },
  {
   "cell_type": "code",
   "execution_count": 101,
   "metadata": {},
   "outputs": [
    {
     "name": "stdout",
     "output_type": "stream",
     "text": [
      "3.4.2\n"
     ]
    }
   ],
   "source": [
    "import pickle\n",
    "import time\n",
    "import cv2 as cv\n",
    "import numpy as np\n",
    "print(cv.__version__)\n",
    "from tqdm import tqdm\n",
    "import random\n",
    "\n",
    "images = 10\n",
    "epsilon = 12\n",
    "alpha = 0.4    # 0.4 - 0.7\n",
    "beta = 1.1     # 1.1 - 1.5\n",
    "rows, cols = 576, 768\n",
    "\n",
    "\n",
    "\n",
    "time_list = [\"13-06\", \"13-19\", \"13-32\", \"13-38\"]\n",
    "\n",
    "# i1 = [34, 35, 42, 55, 72, 79, 86, 135, 156, 205, 254, 282, 317, 359, 408]\n",
    "# i2 = [1, 51, 86, 223, 447]\n",
    "# i3 = [1, 178, 367, 444]\n",
    "# i4 = [46, 53, 60, 74, 88, 95, 102, 109, 116, 144, 151, 186, 235, 291, 354, 452]\n",
    "# image_list.append(i1)\n",
    "# image_list.append(i2)\n",
    "# image_list.append(i3)\n",
    "# image_list.append(i4)\n",
    "# print(image_list)\n",
    "\n",
    "def create_codebook_matrix(rows, cols):\n",
    "    matrix = []\n",
    "    for i in range(rows):\n",
    "        matrix.append([])\n",
    "        for j in range(cols):\n",
    "            matrix[i].append([])\n",
    "    return matrix\n",
    "\n",
    "def create_random_images_list():\n",
    "    matrix = []\n",
    "    for j in range(4):\n",
    "        matrix.append([])\n",
    "    for i in range(10):\n",
    "        image_number = random.randint(0, 446)\n",
    "        image_time = random.randint(0, 4) - 1\n",
    "        matrix[image_time].append(image_number)\n",
    "    return matrix\n",
    "\n",
    "def create_codeword(R, G, B, i_min, i_max, f, _lambda, p, q):\n",
    "    return [R, G, B, i_min, i_max, f, _lambda, p, q]\n",
    "\n",
    "def calculate_brightness(R, G, B):\n",
    "    return ((R ** 2) + (G ** 2) + (B ** 2)) ** 0.5\n",
    "\n",
    "def calculate_color_dist(x, v):\n",
    "    xt2 = (x[0] ** 2) + (x[1] ** 2) + (x[2] ** 2)\n",
    "    vi2 = (v[0] ** 2) + (v[1] ** 2) + (v[2] ** 2)\n",
    "    dot_product2 = ((v[0] * x[0]) + (v[1] * x[1]) + (v[2] * x[2])) ** 2\n",
    "    if(vi2 == 0):\n",
    "        return abs(xt2) ** 0.5\n",
    "    p2 = dot_product2 / (vi2)\n",
    "    return abs(xt2 - p2) ** 0.5\n",
    "\n",
    "def calculate_high_low_brightness(alpha, beta, i_max, i_min):\n",
    "    i_low = alpha * i_max\n",
    "    i_high = min(beta* i_max, (i_min/alpha))\n",
    "    return i_low, i_high\n",
    "\n",
    "def brightness(I, i_low, i_high):\n",
    "    return (i_low <= I <= i_high)\n",
    "\n",
    "def construct_codebook(pixel, t, codebook):\n",
    "    # pixel = pixel.astype(float)\n",
    "    R = pixel[0]\n",
    "    G = pixel[1]\n",
    "    B = pixel[2]\n",
    "    I = calculate_brightness(R, G, B)\n",
    "    i_max = I\n",
    "    i_min = I\n",
    "    matched = False\n",
    "    for codeword in codebook:\n",
    "        color_dist = calculate_color_dist([R, G, B], [codeword[0], codeword[1], codeword[2]])\n",
    "        i_low, i_high = calculate_high_low_brightness(alpha, beta, codeword[3], codeword[4])\n",
    "        b = brightness(I, i_low, i_high) \n",
    "        if((color_dist <= epsilon) and b):\n",
    "            new_R = ((codeword[5] * codeword[0]) + R)/ (codeword[5] + 1)\n",
    "            new_G = ((codeword[5] * codeword[1]) + G)/ (codeword[5] + 1)\n",
    "            new_B = ((codeword[5] * codeword[2]) + B)/ (codeword[5] + 1)\n",
    "            codeword[0] = new_R\n",
    "            codeword[1] = new_G\n",
    "            codeword[2] = new_B\n",
    "            codeword[4] = max(I, codeword[4])\n",
    "            codeword[3] = min(I, codeword[3])\n",
    "            codeword[5] +=1\n",
    "            codeword[6] = max(codeword[6], t - codeword[8])\n",
    "            codeword[8] = t\n",
    "            matched = True\n",
    "            break\n",
    "    if not matched:\n",
    "        new_codeword = create_codeword(R, G, B, I, I, 1, t - 1, t, t)\n",
    "        codebook.append(new_codeword)\n",
    "    return codebook\n",
    "\n",
    "def adjust_lambda(matrix_codebooks, number_of_images = 40):\n",
    "    for i in range(len(matrix_codebooks)):\n",
    "        for j in range(len(matrix_codebooks[i])):\n",
    "            for codeword in matrix_codebooks[i][j]:\n",
    "                codeword[6] = max(codeword[6], (number_of_images - codeword[8] + codeword[7] - 1))\n",
    "    return matrix_codebooks\n",
    "\n",
    "def clean_file(filepath):\n",
    "    pickle_in = open(filepath,\"rb\")\n",
    "    matrix_codebooks = pickle.load(pickle_in)\n",
    "\n",
    "    new_matrix = create_codebook_matrix(rows, cols)\n",
    "\n",
    "    for i in (range(len(matrix_codebooks))):\n",
    "        for j in range(len(matrix_codebooks[i])):\n",
    "            for codeword in matrix_codebooks[i][j]:\n",
    "                _lambda = codeword[6]\n",
    "                if(_lambda >= images/2):\n",
    "                    new_matrix[i][j].append(codeword)\n",
    "\n",
    "    pickle_out = open(\"codebook10_clean.pickle\",\"wb\")\n",
    "    pickle.dump(new_matrix, pickle_out)\n",
    "    pickle_out.close()\n"
   ]
  },
  {
   "cell_type": "code",
   "execution_count": 102,
   "metadata": {},
   "outputs": [
    {
     "name": "stdout",
     "output_type": "stream",
     "text": [
      "Training...\n",
      "----------------\n",
      "IMAGE: 1\n",
      "Time: 1.5166232585906982\n",
      "----------------\n",
      "IMAGE: 2\n",
      "Time: 4.84248685836792\n",
      "----------------\n",
      "IMAGE: 3\n",
      "Time: 5.08678674697876\n",
      "----------------\n",
      "IMAGE: 4\n",
      "Time: 7.261631011962891\n",
      "----------------\n",
      "IMAGE: 5\n",
      "Time: 6.923756122589111\n",
      "----------------\n",
      "IMAGE: 6\n",
      "Time: 8.187435865402222\n",
      "----------------\n",
      "IMAGE: 7\n",
      "Time: 8.357270002365112\n",
      "----------------\n",
      "IMAGE: 8\n",
      "Time: 8.217264890670776\n",
      "----------------\n",
      "IMAGE: 9\n",
      "Time: 8.134973049163818\n",
      "----------------\n",
      "IMAGE: 10\n",
      "Time: 8.4204580783844\n",
      "TIME: 68.82210397720337\n"
     ]
    }
   ],
   "source": [
    "\n",
    "start = time.time()\n",
    "\n",
    "print(\"Training...\")\n",
    "image_list = create_random_images_list()\n",
    "matrix_codebooks = create_codebook_matrix(rows, cols)\n",
    "image_index = 1\n",
    "for k in (range(len(time_list))):\n",
    "    for l in (range(len(image_list[k]))):\n",
    "        print(\"-\" * 16)\n",
    "        print(f\"IMAGE: {image_index}\")\n",
    "        string_image = '0' * (8-len(str(image_list[k][l]))) + str(image_list[k][l])\n",
    "        path_image = \"./Crowd_PETS09/S0/Background/View_001/Time_{0}/{1}.jpg\".format(time_list[k], string_image)\n",
    "        image = cv.imread(path_image)\n",
    "        image = image.astype(float)\n",
    "        st = time.time()\n",
    "        for i in range(rows):\n",
    "            for j in range(cols):\n",
    "                pixel = image[i][j]\n",
    "                actual_codebook = matrix_codebooks[i][j]\n",
    "                new_codebook = construct_codebook(pixel, image_index, actual_codebook)\n",
    "                matrix_codebooks[i][j] = new_codebook\n",
    "        en = time.time()\n",
    "        print(f\"Time: {en-st}\")\n",
    "        image_index+=1\n",
    "\n",
    "\n",
    "matrix_codebooks = adjust_lambda(matrix_codebooks, 40)\n",
    "end = time.time()\n",
    "print(\"TIME: {}\".format(end-start))\n",
    "\n"
   ]
  },
  {
   "cell_type": "code",
   "execution_count": 103,
   "metadata": {},
   "outputs": [
    {
     "name": "stdout",
     "output_type": "stream",
     "text": [
      "Writing file...\n"
     ]
    }
   ],
   "source": [
    "print(\"Writing file...\")\n",
    "pickle_out = open(\"codebook10.pickle\",\"wb\")\n",
    "pickle.dump(matrix_codebooks, pickle_out)\n",
    "pickle_out.close()"
   ]
  },
  {
   "cell_type": "code",
   "execution_count": 104,
   "metadata": {},
   "outputs": [],
   "source": [
    "clean_file(\"codebook10.pickle\")"
   ]
  },
  {
   "cell_type": "code",
   "execution_count": 113,
   "metadata": {},
   "outputs": [],
   "source": [
    "import pickle\n",
    "from tqdm import tqdm\n",
    "import cv2 as cv\n",
    "import numpy as np\n",
    "import pickle\n",
    "import time\n",
    "\n",
    "\n",
    "epsilon = 150\n",
    "alpha = 0.6    # 0.4 - 0.7\n",
    "beta = 1.5     # 1.1 - 1.5\n",
    "rows, cols = 576, 768\n",
    "\n",
    "pickle_in = open(\"codebook10_clean.pickle\",\"rb\")\n",
    "matrix_codebooks = pickle.load(pickle_in)\n",
    "\n",
    "def test(pixel, t, i, j, matrix_codebooks):\n",
    "    R = pixel[0]\n",
    "    G = pixel[1]\n",
    "    B = pixel[2]\n",
    "    I = calcBrightness(R, G, B)\n",
    "    i_max = I\n",
    "    i_min = I\n",
    "    index = 0\n",
    "    codebook = matrix_codebooks[i][j]\n",
    "    matched = False\n",
    "    for codeword in codebook:\n",
    "        color_dist = calculate_color_dist([R, G, B], [codeword[0], codeword[1], codeword[2]])\n",
    "        i_low, i_high = calculate_high_low_brightness(alpha, beta, codeword[3], codeword[4])\n",
    "        b = brightness(I, i_low, i_high) \n",
    "        if((color_dist <= epsilon) and b):\n",
    "            matched = True\n",
    "            result = [0,0,0]\n",
    "            break\n",
    "    if(matched ==  False):\n",
    "        result = [255,255,255]\n",
    "        \n",
    "    return result\n",
    "\n",
    "\n",
    "def load_image(image_number):\n",
    "    string_image = '0' * (8-len(str(image_number))) + str(image_number)\n",
    "#     string_image =  'frame_'+ '0' * (4-len(str(image_number))) + str(image_number)\n",
    "#     path_image = './Crowd_PETS09-2/S1/L1/Time_13-57/View_001/{}.jpg'.format(string_image)\n",
    "#     path_image = './Crowd_PETS09-1/S0/City_Center/Time_12-34/View_001/{}.jpg'.format(string_image)\n",
    "    path_image = './Crowd_PETS09/S0/Background/View_001/Time_13-19/{}.jpg'.format(string_image)\n",
    "    print(path_image)\n",
    "    \n",
    "    image = cv.imread(path_image)\n",
    "    image = image.astype(float)\n",
    "    return image\n",
    "\n",
    "def subtract(image_number):\n",
    "    start = time.time()\n",
    "    image_number = 150\n",
    "    image = load_image(image_number)\n",
    "    for i in range(rows):\n",
    "        for j in range(cols):\n",
    "            actual = image[i][j]\n",
    "            image[i][j] = test(actual, image_number, i, j, matrix_codebooks)\n",
    "\n",
    "    plt.imshow(np.uint8(image))\n",
    "    plt.show()\n",
    "\n",
    "                # matrix_codebooks = construct_codebook(actual, n, i, j, matrix_codebooks)\n",
    "\n",
    "    end = time.time()\n",
    "    print(\"TIME: {}\".format(end-start))\n"
   ]
  },
  {
   "cell_type": "code",
   "execution_count": 114,
   "metadata": {},
   "outputs": [
    {
     "name": "stdout",
     "output_type": "stream",
     "text": [
      "./Crowd_PETS09/S0/Background/View_001/Time_13-19/00000150.jpg\n"
     ]
    },
    {
     "data": {
      "image/png": "[encoded data removed]",
      "text/plain": [
       "<Figure size 432x288 with 1 Axes>"
      ]
     },
     "metadata": {},
     "output_type": "display_data"
    },
    {
     "name": "stdout",
     "output_type": "stream",
     "text": [
      "TIME: 4.134420871734619\n"
     ]
    }
   ],
   "source": [
    "subtract(150)"
   ]
  },
  {
   "cell_type": "code",
   "execution_count": 107,
   "metadata": {},
   "outputs": [],
   "source": [
    "# for i in range(len(matrix_codebooks)):\n",
    "#     for j in range(len(matrix_codebooks[i])):\n",
    "#         print(len(matrix_codebooks[i][j]))"
   ]
  },
  {
   "cell_type": "code",
   "execution_count": 108,
   "metadata": {},
   "outputs": [
    {
     "name": "stderr",
     "output_type": "stream",
     "text": [
      "Clipping input data to the valid range for imshow with RGB data ([0..1] for floats or [0..255] for integers).\n"
     ]
    },
    {
     "data": {
      "text/plain": [
       "<matplotlib.image.AxesImage at 0x12fcf1fd0>"
      ]
     },
     "execution_count": 108,
     "metadata": {},
     "output_type": "execute_result"
    },
    {
     "data": {
      "image/png": "[encoded data removed]",
      "text/plain": [
       "<Figure size 432x288 with 1 Axes>"
      ]
     },
     "metadata": {},
     "output_type": "display_data"
    }
   ],
   "source": [
    "kernel = np.ones((7,7),np.uint8)\n",
    "erosion = cv.erode(image,kernel,iterations = 1)\n",
    "dilation = cv.dilate(erosion,kernel,iterations = 1)\n",
    "# dilation = cv.dilate(dilation,kernel,iterations = 1)\n",
    "\n",
    "plt.imshow(dilation)"
   ]
  },
  {
   "cell_type": "code",
   "execution_count": 112,
   "metadata": {},
   "outputs": [
    {
     "name": "stdout",
     "output_type": "stream",
     "text": [
      "0\n"
     ]
    }
   ],
   "source": [
    "params = cv.SimpleBlobDetector_Params()\n",
    "\n",
    "params.filterByInertia = False\n",
    "params.filterByConvexity = False\n",
    "# params.filterByColor = (0,0,0)\n",
    "\n",
    "detector = cv.SimpleBlobDetector_create(params) \n",
    "# Detect blobs.\n",
    "keypoints = detector.detect(np.uint8(dilation))\n",
    "im_with_keypoints = cv.drawKeypoints(np.uint8(image), keypoints, np.array([]), (0,255,0), cv.DRAW_MATCHES_FLAGS_DRAW_RICH_KEYPOINTS)\n",
    "# plt.imshow((im_with_keypoints))\n",
    "print(len(keypoints))"
   ]
  },
  {
   "cell_type": "code",
   "execution_count": null,
   "metadata": {},
   "outputs": [],
   "source": []
  }
 ],
 "metadata": {
  "kernelspec": {
   "display_name": "Python 3",
   "language": "python",
   "name": "python3"
  },
  "language_info": {
   "codemirror_mode": {
    "name": "ipython",
    "version": 3
   },
   "file_extension": ".py",
   "mimetype": "text/x-python",
   "name": "python",
   "nbconvert_exporter": "python",
   "pygments_lexer": "ipython3",
   "version": "3.7.0"
  }
 },
 "nbformat": 4,
 "nbformat_minor": 2
}
